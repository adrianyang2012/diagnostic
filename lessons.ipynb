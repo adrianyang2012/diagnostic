{
  "nbformat": 4,
  "nbformat_minor": 0,
  "metadata": {
    "colab": {
      "private_outputs": true,
      "provenance": [],
      "authorship_tag": "ABX9TyNNGSzOicfHP+u3mDlnMZbO",
      "include_colab_link": true
    },
    "kernelspec": {
      "name": "python3",
      "display_name": "Python 3"
    },
    "language_info": {
      "name": "python"
    }
  },
  "cells": [
    {
      "cell_type": "markdown",
      "metadata": {
        "id": "view-in-github",
        "colab_type": "text"
      },
      "source": [
        "<a href=\"https://colab.research.google.com/github/adrianyang2012/diagnostic/blob/main/lessons.ipynb\" target=\"_parent\"><img src=\"https://colab.research.google.com/assets/colab-badge.svg\" alt=\"Open In Colab\"/></a>"
      ]
    },
    {
      "cell_type": "code",
      "execution_count": null,
      "metadata": {
        "id": "fwZ1Cp4RbXvX"
      },
      "outputs": [],
      "source": [
        "#          lesson             things\n",
        "lessons = {'addition':[['l',' . + . count! .. 2 dots!','q','1+2'],1],\n",
        "           'multipliying':[['l','multiplying is basicly added','l','2x4 = 2+2+2+2','l','you can do this for any thing but you have to memorize the table','q','4*4'],150],\n",
        "           'practice round':[['q','12*45','q','14*14','q','11*18'],290],\n",
        "           'fractions practice':[['l','to convert fractions to integers you can just divide normally','q','4/5','q','3/6'],330],\n",
        "           'proof of pythogrean theorm':[['l','to find c squared we can first put triangles all around the square so every triangle = a x b /2','l','then we can write a formula','l','(a+b) squared - 2ab(4 triangle area) = (a+b)(a+b) - 2ab  = a(a+b) + b(a+b)  = a squared + b squared + 2ab - 2ab = a squared + b squared'],800]}\n",
        "def find_closest(grade, did_before):\n",
        "  closest = float('inf')\n",
        "  closest_thing = 'blah blah blah'\n",
        "  for item in lessons:\n",
        "    if abs(grade - lessons[item][1]) < closest and item not in did_before:\n",
        "      closest = abs(grade - lessons[item][1])\n",
        "      closest_thing = item\n",
        "  return closest_thing\n",
        "def ask_and_find(question):\n",
        "  try:\n",
        "    user_ans = float(input('what is ' +question + ' :'))\n",
        "  except:\n",
        "    print('type a number!')\n",
        "  ans = eval(question)\n",
        "  if user_ans == ans:\n",
        "    print('correct!')\n",
        "  else:\n",
        "    print('wrong')\n",
        "def look_in_lesson(lesson):\n",
        "  print(lesson)\n",
        "  g = round(lessons[lesson][1]/100)\n",
        "  if g == 0:\n",
        "    g = 'kindergarden'\n",
        "  print(f\"grade {g}\")\n",
        "  i = 0\n",
        "  for item in lessons[lesson][0]:\n",
        "    if i % 2 == 0:\n",
        "\n",
        "      type_of_thing = item\n",
        "    else:\n",
        "      if type_of_thing == 'q':\n",
        "        ask_and_find(item)\n",
        "      else:\n",
        "        print(item)\n",
        "      print('type enter to continue')\n",
        "      continuing = input('')\n",
        "    i += 1\n",
        "  print('done')\n",
        "  \n"
      ]
    },
    {
      "cell_type": "code",
      "source": [
        "# click this if you are just started doing lessons\n",
        "lessons_did = []\n",
        "print(' kindergarden: 1-100      first grade: 101-200     second grade: 201-300     third grade: 301-400     fourth grade: 401-500      fifth grade:    501-600 sixth grade: 601-700')\n",
        "user_grade = int(input('what is your grade'))\n"
      ],
      "metadata": {
        "id": "83PPrbwlCq3z"
      },
      "execution_count": null,
      "outputs": []
    },
    {
      "cell_type": "code",
      "source": [
        "#click this to take a lesson\n",
        "lesson_doing = find_closest(user_grade,lessons_did)\n",
        "lessons_did.append(lesson_doing)\n",
        "if lesson_doing == 'blah blah blah':\n",
        "  print('congragulations! you finished all lessons!')\n",
        "  print('   __________    ')\n",
        "  print('   | Iready   |   ')\n",
        "  print('   \\ python   /  ')\n",
        "  print('    _________    ')\n",
        "  print('       |         ')\n",
        "  print('       |         ')\n",
        "  print('yay!')\n",
        "else:\n",
        "  look_in_lesson(lesson_doing)\n"
      ],
      "metadata": {
        "id": "m3Af_mOkIP5E"
      },
      "execution_count": null,
      "outputs": []
    }
  ]
}